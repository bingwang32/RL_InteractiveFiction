{
 "cells": [
  {
   "cell_type": "markdown",
   "metadata": {},
   "source": [
    "## Reinforcement Learning Project - Interactive Fiction"
   ]
  },
  {
   "cell_type": "markdown",
   "metadata": {},
   "source": [
    "Deterministic (same state and action always leads to the same value)<br>\n",
    "Model-free (don't know all states/available actions)<br>\n",
    "Fully observable (we know what state we're in)<br>\n",
    "TD updates (update for each state, not full episode)\n",
    "finite (game will end eventually)\n",
    "\n",
    "\n",
    "## To do:\n",
    "    -Agent methods to implement demo: With random actions, trained agent actions, walkthrough actions\n",
    "    -Agent method to allow human input (? optional)\n",
    "    -Outside function for training/printing every few intervals (every few training blocks)\n",
    "    -Outside function to run (random agent) for a number of iterations and average their score/performance (to calc baseline)\n",
    "    -Put outside functions into utils.py"
   ]
  },
  {
   "cell_type": "code",
   "execution_count": 13,
   "metadata": {
    "ExecuteTime": {
     "end_time": "2020-06-24T07:44:51.138366Z",
     "start_time": "2020-06-24T07:44:51.133376Z"
    }
   },
   "outputs": [],
   "source": [
    "from jericho import *\n",
    "import numpy as np\n",
    "import random\n",
    "import re"
   ]
  },
  {
   "cell_type": "markdown",
   "metadata": {},
   "source": [
    "### Utilities"
   ]
  },
  {
   "cell_type": "code",
   "execution_count": 221,
   "metadata": {
    "ExecuteTime": {
     "end_time": "2020-06-24T08:18:41.562561Z",
     "start_time": "2020-06-24T08:18:41.558095Z"
    }
   },
   "outputs": [],
   "source": [
    "def pretty_print_state(state):\n",
    "    state = str(state)\n",
    "    state = state.replace('\\\\\\'', '\\'')\n",
    "    pattern = re.compile(r'\\\\n|b\\'|b\"')\n",
    "    state = re.sub(pattern, ' ', state)\n",
    "    state = state.strip().strip('\\'').strip('\\\"')\n",
    "    return state"
   ]
  },
  {
   "cell_type": "markdown",
   "metadata": {},
   "source": [
    "### Read in an interactive fiction work into Jericho environment\n",
    "Currently: Detective"
   ]
  },
  {
   "cell_type": "code",
   "execution_count": 2,
   "metadata": {
    "ExecuteTime": {
     "end_time": "2020-06-24T07:27:12.488617Z",
     "start_time": "2020-06-24T07:27:12.485550Z"
    }
   },
   "outputs": [],
   "source": [
    "story_file = \"z-machine-games-master/jericho-game-suite/detective.z5\""
   ]
  },
  {
   "cell_type": "markdown",
   "metadata": {},
   "source": [
    "### RL problem setup:\n",
    "\n",
    "States: Text at each step<br>\n",
    "Actions: Sampled text (for Detective, either cardinal direction or [verb][noun] generally)"
   ]
  },
  {
   "cell_type": "markdown",
   "metadata": {},
   "source": [
    "### Playthrough of game with agent making random actions\n",
    "\n",
    "## Note: do this over many iterations and take average for baseline performance\n",
    "## Have this as part of demo method"
   ]
  },
  {
   "cell_type": "code",
   "execution_count": 144,
   "metadata": {
    "ExecuteTime": {
     "end_time": "2020-06-24T08:12:40.433935Z",
     "start_time": "2020-06-24T08:12:40.406456Z"
    }
   },
   "outputs": [],
   "source": [
    "env = FrotzEnv(story_file)"
   ]
  },
  {
   "cell_type": "code",
   "execution_count": 145,
   "metadata": {
    "ExecuteTime": {
     "end_time": "2020-06-24T08:12:46.543733Z",
     "start_time": "2020-06-24T08:12:46.536422Z"
    }
   },
   "outputs": [
    {
     "data": {
      "text/plain": [
       "('\\n\\n\\n\\n[Type \"help\" for more information about this version]\\n\\nDetective\\nBy Matt Barringer.\\nPorted by Stuart Moore.\\nStuart_Moore@my-deja.com\\nRelease 1 / Serial number 000715 / Inform v6.21 Library 6/10 SD\\n\\n<< Chief\\'s office >>\\nYou are standing in the Chief\\'s office. He is telling you \"The Mayor was murdered yeaterday night at 12:03 am. I want you to solve it before we get any bad publicity or the FBI has to come in. \"Yessir!\" You reply. He hands you a sheet of paper. Once you have read it, go north or west.\\n\\nYou can see a piece of white paper here.\\n\\n[Your score has just gone up by ten points.]\\n',\n",
       " {'moves': 1, 'score': 10})"
      ]
     },
     "execution_count": 145,
     "metadata": {},
     "output_type": "execute_result"
    }
   ],
   "source": [
    "env.reset()"
   ]
  },
  {
   "cell_type": "code",
   "execution_count": 215,
   "metadata": {
    "ExecuteTime": {
     "end_time": "2020-06-24T08:16:49.491934Z",
     "start_time": "2020-06-24T08:16:49.330848Z"
    }
   },
   "outputs": [
    {
     "data": {
      "text/plain": [
       "['north',\n",
       " 'take note',\n",
       " 'put wood down',\n",
       " 'abstract wood to note',\n",
       " 'abstract note to wood',\n",
       " 'east']"
      ]
     },
     "execution_count": 215,
     "metadata": {},
     "output_type": "execute_result"
    }
   ],
   "source": [
    "env.get_valid_actions()"
   ]
  },
  {
   "cell_type": "code",
   "execution_count": 216,
   "metadata": {
    "ExecuteTime": {
     "end_time": "2020-06-24T08:16:55.789661Z",
     "start_time": "2020-06-24T08:16:55.783444Z"
    }
   },
   "outputs": [
    {
     "data": {
      "text/plain": [
       "('\\nTaken.\\n\\n[Your score has just gone up by ten points.]\\n',\n",
       " 10,\n",
       " False,\n",
       " {'moves': 23, 'score': 70})"
      ]
     },
     "execution_count": 216,
     "metadata": {},
     "output_type": "execute_result"
    }
   ],
   "source": [
    "env.step('take note')"
   ]
  },
  {
   "cell_type": "code",
   "execution_count": 217,
   "metadata": {
    "ExecuteTime": {
     "end_time": "2020-06-24T08:16:58.589789Z",
     "start_time": "2020-06-24T08:16:58.585771Z"
    }
   },
   "outputs": [],
   "source": [
    "state_raw = env.get_state()[-1]\n",
    "state_str = str(state_raw)"
   ]
  },
  {
   "cell_type": "code",
   "execution_count": 218,
   "metadata": {
    "ExecuteTime": {
     "end_time": "2020-06-24T08:16:58.774543Z",
     "start_time": "2020-06-24T08:16:58.770212Z"
    }
   },
   "outputs": [
    {
     "name": "stdout",
     "output_type": "stream",
     "text": [
      "Taken.  [Your score has just gone up by ten points.] \n"
     ]
    }
   ],
   "source": []
  },
  {
   "cell_type": "code",
   "execution_count": null,
   "metadata": {},
   "outputs": [],
   "source": []
  },
  {
   "cell_type": "code",
   "execution_count": 4,
   "metadata": {
    "ExecuteTime": {
     "end_time": "2020-06-24T07:27:17.433692Z",
     "start_time": "2020-06-24T07:27:17.427788Z"
    }
   },
   "outputs": [
    {
     "name": "stdout",
     "output_type": "stream",
     "text": [
      "Maximum possible score in game: 360\n"
     ]
    }
   ],
   "source": [
    "# Maximum possible score in game\n",
    "print(f'Maximum possible score in game: {env.get_max_score()}')"
   ]
  },
  {
   "cell_type": "code",
   "execution_count": 5,
   "metadata": {
    "ExecuteTime": {
     "end_time": "2020-06-24T07:27:21.437087Z",
     "start_time": "2020-06-24T07:27:18.006932Z"
    }
   },
   "outputs": [
    {
     "name": "stdout",
     "output_type": "stream",
     "text": [
      "State: b'\\n\\n\\n\\n[Type \"help\" for more information about this version]\\n\\nDetective\\nBy Matt Barringer.\\nPorted by Stuart Moore.\\nStuart_Moore@my-deja.com\\nRelease 1 / Serial number 000715 / Inform v6.21 Library 6/10 SD\\n\\n<< Chief\\'s office >>\\nYou are standing in the Chief\\'s office. He is telling you \"The Mayor was murdered yeaterday night at 12:03 am. I want you to solve it before we get any bad publicity or the FBI has to come in. \"Yessir!\" You reply. He hands you a sheet of paper. Once you have read it, go north or west.\\n\\nYou can see a piece of white paper here.\\n\\n[Your score has just gone up by ten points.]\\n'\n",
      "Random action chosen: east\n",
      "\n",
      "State: b'\\nYou can\\'t go east from here!\\n\\n<< Chief\\'s office >>\\nYou are standing in the Chief\\'s office. He is telling you \"The Mayor was murdered yeaterday night at 12:03 am. I want you to solve it before we get any bad publicity or the FBI has to come in. \"Yessir!\" You reply. He hands you a sheet of paper. Once you have read it, go north or west.\\n\\nYou can see a piece of white paper here.\\n'\n",
      "Random action chosen: take paper\n",
      "\n",
      "State: b'\\nTaken.\\n\\n[Your score has just gone up by ten points.]\\n'\n",
      "Random action chosen: north\n",
      "\n",
      "State: b\"\\n\\n<< Outside >>\\nYou are outside in the cold. To the east is a dead end. To the west is the rest of the street. Papers are blowing around. It's amazingly cold for this time of year.\\n\"\n",
      "Random action chosen: north\n",
      "\n",
      "State: b\"\\nYou can't go north from here!\\n\\n<< Outside >>\\nYou are outside in the cold. To the east is a dead end. To the west is the rest of the street. Papers are blowing around. It's amazingly cold for this time of year.\\n\"\n",
      "Random action chosen: north\n",
      "\n",
      "State: b\"\\nYou can't go north from here!\\n\\n<< Outside >>\\nYou are outside in the cold. To the east is a dead end. To the west is the rest of the street. Papers are blowing around. It's amazingly cold for this time of year.\\n\"\n",
      "Random action chosen: put paper down\n",
      "\n",
      "State: b'\\nDropped.\\n'\n",
      "Random action chosen: west\n",
      "\n",
      "State: b\"\\n\\n<< Outside >>\\nYou are still on the streets. To the north is a restraunt where the mayor ate often. To the east is the Mayor's home.\\n\\n[Your score has just gone up by ten points.]\\n\"\n",
      "Random action chosen: north\n",
      "\n"
     ]
    }
   ],
   "source": [
    "# Reset game to initial state S_0\n",
    "env.reset()\n",
    "\n",
    "while not env.game_over() or env.victory():\n",
    "    # Here, I use the environment to check what are possible actions, and choose a random one.\n",
    "    # I may or may not do this in the future (sample my own words for actions, or attempt that as a possible agent)\n",
    "    available_actions = env.get_valid_actions()\n",
    "    random_action = random.choice(available_actions)\n",
    "    \n",
    "    print(f'State: {env.get_state()[-1]}')\n",
    "    print(f'Random action chosen: {random_action}')\n",
    "    env.step(random_action)\n",
    "    print()"
   ]
  },
  {
   "cell_type": "code",
   "execution_count": 6,
   "metadata": {
    "ExecuteTime": {
     "end_time": "2020-06-24T07:27:23.128274Z",
     "start_time": "2020-06-24T07:27:23.122975Z"
    }
   },
   "outputs": [
    {
     "name": "stdout",
     "output_type": "stream",
     "text": [
      "Final score of random choice game: 30\n"
     ]
    }
   ],
   "source": [
    "# Output final score of randomly played game\n",
    "print(f'Final score of random choice game: {env.get_score()}')"
   ]
  },
  {
   "cell_type": "markdown",
   "metadata": {},
   "source": [
    "Playthrough of optimal choices in game (walkthrough)"
   ]
  },
  {
   "cell_type": "code",
   "execution_count": 7,
   "metadata": {
    "ExecuteTime": {
     "end_time": "2020-06-24T07:27:25.694880Z",
     "start_time": "2020-06-24T07:27:25.657447Z"
    }
   },
   "outputs": [
    {
     "name": "stdout",
     "output_type": "stream",
     "text": [
      "State: b'\\n\\n\\n\\n[Type \"help\" for more information about this version]\\n\\nDetective\\nBy Matt Barringer.\\nPorted by Stuart Moore.\\nStuart_Moore@my-deja.com\\nRelease 1 / Serial number 000715 / Inform v6.21 Library 6/10 SD\\n\\n<< Chief\\'s office >>\\nYou are standing in the Chief\\'s office. He is telling you \"The Mayor was murdered yeaterday night at 12:03 am. I want you to solve it before we get any bad publicity or the FBI has to come in. \"Yessir!\" You reply. He hands you a sheet of paper. Once you have read it, go north or west.\\n\\nYou can see a piece of white paper here.\\n\\n[Your score has just gone up by ten points.]\\n'\n",
      "Action from walkthrough: TAKE PAPER\n",
      "\n",
      "State: b'\\nTaken.\\n\\n[Your score has just gone up by ten points.]\\n'\n",
      "Action from walkthrough: READ PAPER\n",
      "\n",
      "State: b\"\\nCONFIDENTIAL:\\nDetective was created by Matt Barringer.\\nHe has worked hard on this so you better enjoy it.\\nI did have fun making it though. But I'd REALLY appreciate it if you were kind enough to send a postcard or... dare I even say it?... money... to:\\nMatt Barringer\\n325 Olive Ave\\nPiedmont\\nCA 94611\\nJust tell me if you like it or not.\\nIf you want to talk to me over a BBS call the Ghostbuster Central BBS at (510)208-5657.\\nThere is an Exile Games file area. Have fun. I WILL give hints out over the BBS to any of my games.\\n\"\n",
      "Action from walkthrough: DROP PAPER\n",
      "\n",
      "State: b'\\nDropped.\\n'\n",
      "Action from walkthrough: INVENTORY\n",
      "\n",
      "State: b'\\nYou are carrying nothing.\\n'\n",
      "Action from walkthrough: W\n",
      "\n",
      "State: b'\\n\\n<< Closet >>\\nYou are in a closet. There is a gun on the floor. Better get it. To exit, go east.\\n\\nYou can see a small black pistol here.\\n'\n",
      "Action from walkthrough: TAKE GUN\n",
      "\n",
      "State: b'\\nTaken.\\n\\n[Your score has just gone up by ten points.]\\n'\n",
      "Action from walkthrough: E\n",
      "\n",
      "State: b'\\n\\n<< Chief\\'s office >>\\nYou are standing in the Chief\\'s office. He is telling you \"The Mayor was murdered yeaterday night at 12:03 am. I want you to solve it before we get any bad publicity or the FBI has to come in. \"Yessir!\" You reply. He hands you a sheet of paper. Once you have read it, go north or west.\\n\\nYou can see a piece of white paper here.\\n'\n",
      "Action from walkthrough: N\n",
      "\n",
      "State: b\"\\n\\n<< Outside >>\\nYou are outside in the cold. To the east is a dead end. To the west is the rest of the street. Papers are blowing around. It's amazingly cold for this time of year.\\n\"\n",
      "Action from walkthrough: W\n",
      "\n",
      "State: b\"\\n\\n<< Outside >>\\nYou are still on the streets. To the north is a restraunt where the mayor ate often. To the east is the Mayor's home.\\n\\n[Your score has just gone up by ten points.]\\n\"\n",
      "Action from walkthrough: E\n",
      "\n",
      "State: b\"\\n\\n<< Mayor's house >>\\nYou are in the house, at the scene of the crime. You enter and flash your badge before a cop. He admits you. To the north is the upstairs. To the east is the living room and to the west is the dining room.\\n\\n[Your score has just gone up by ten points.]\\n\"\n",
      "Action from walkthrough: E\n",
      "\n",
      "State: b'\\n\\n<< Living room >>\\nYou are standing in the living room. You see a battered piece of wood. You wonder \"Should I pick this thing up?\". Well, whether you do or don\\'t the only way out of the room is back west.\\n\\nYou can see a wooden wood here.\\n'\n",
      "Action from walkthrough: TAKE WOOD\n",
      "\n",
      "State: b'\\nTaken.\\n\\n[Your score has just gone up by ten points.]\\n'\n",
      "Action from walkthrough: W\n",
      "\n",
      "State: b\"\\n\\n<< Mayor's house >>\\nYou are in the house, at the scene of the crime. You enter and flash your badge before a cop. He admits you. To the north is the upstairs. To the east is the living room and to the west is the dining room.\\n\"\n",
      "Action from walkthrough: W\n",
      "\n",
      "State: b'\\n\\n<< Dining room >>\\nYou are in the dining room. You look around and see a note on the table. You can go back east.\\n\\nYou can see a paper note here.\\n'\n",
      "Action from walkthrough: TAKE NOTE\n",
      "\n",
      "State: b'\\nTaken.\\n\\n[Your score has just gone up by ten points.]\\n'\n",
      "Action from walkthrough: READ NOTE\n",
      "\n",
      "State: b\"\\nThe note was written on a computer obviously this murder was planned and it says:\\nWe have acclaimed Justice! The Justice of the future! Our next hit is the governer! You CAN'T STOP US! The note sounds like the killers are a group and that they are vigilantes (look it up). You are now getting a bit worried.\\n\"\n",
      "Action from walkthrough: E\n",
      "\n",
      "State: b\"\\n\\n<< Mayor's house >>\\nYou are in the house, at the scene of the crime. You enter and flash your badge before a cop. He admits you. To the north is the upstairs. To the east is the living room and to the west is the dining room.\\n\"\n",
      "Action from walkthrough: N\n",
      "\n",
      "State: b'\\n\\n<< Upstairs hallway >>\\nYou are in the hallway of the large house of the mayor. It is an amazingly large house. You can go north, south, east or west.\\n\\n[Your score has just gone up by ten points.]\\n'\n",
      "Action from walkthrough: N\n",
      "\n",
      "State: b'\\n\\n<< Hallway >>\\nYou are at the end of the hallway. To the north is a room, while to the west is the rest of the hallway.\\n'\n",
      "Action from walkthrough: W\n",
      "\n",
      "State: b'\\n\\n<< Hallway >>\\nYou are in the hallway. To the north is more hallway, and to the east is a door marked \"Guests\".\\n'\n",
      "Action from walkthrough: N\n",
      "\n",
      "State: b'\\n\\n<< Hallway >>\\nYou are STILL in the hallway. There is EVEN MORE hallway to the north, and a room to the west and a room to the east of you.\\n'\n",
      "Action from walkthrough: N\n",
      "\n",
      "State: b'\\n\\n<< Hallway >>\\nYou are still in the hallway. You can go north to where there is a police officer who will let you outside, or you can go east or west.\\n'\n",
      "Action from walkthrough: W\n",
      "\n",
      "State: b'\\n\\n<< Bedroom >>\\nYou are in the bedroom. You noticed that there was a guard guarding the stairs to the 3rd story, because there is remodelling going on there. You see nothing of importance. Go east.\\n\\n[Your score has just gone up by ten points.]\\n'\n",
      "Action from walkthrough: E\n",
      "\n",
      "State: b'\\n\\n<< Hallway >>\\nYou are still in the hallway. You can go north to where there is a police officer who will let you outside, or you can go east or west.\\n'\n",
      "Action from walkthrough: N\n",
      "\n",
      "State: b'\\n\\n<< Outside >>\\nYou pass the guard. He nods at you. You are now outside standing on the street. You can go north and east, your choice. To the north is more of the street, and to the east is a video store.\\n\\n[Your score has just gone up by ten points.]\\n'\n",
      "Action from walkthrough: E\n",
      "\n",
      "State: b'\\n\\n<< Video Store >>\\nYou are in a video store called Brickbuster Video. There are about 3,000 videos here. You can go north, or east.\\n'\n",
      "Action from walkthrough: E\n",
      "\n",
      "State: b'\\n\\n<< Video Store >>\\nYou are still in the video store. You can go north, or east.\\n\\n[Your score has just gone up by ten points.]\\n'\n",
      "Action from walkthrough: E\n",
      "\n",
      "State: b'\\n\\n<< Outside >>\\nYou are outside. You can go north, south, east or west.\\n'\n",
      "Action from walkthrough: S\n",
      "\n",
      "State: b'\\n\\n<< McDonalds >>\\nYou are in a McDonalds. You pay the guy behind the counter. Now there is a hamburger there. When you have picked it up, go north.\\n\\nYou can see a food hamburger here.\\n'\n",
      "Action from walkthrough: TAKE HAMBURGER\n",
      "\n",
      "State: b'\\nTaken.\\n\\n[Your score has just gone up by ten points.]\\n'\n",
      "Action from walkthrough: N\n",
      "\n",
      "State: b'\\n\\n<< Outside >>\\nYou are outside. You can go north, south, east or west.\\n'\n",
      "Action from walkthrough: N\n",
      "\n",
      "State: b'\\n\\n<< Outside >>\\nYou are still outside. You hit a dead end, then notice that you can go east only.\\n\\n[Your score has just gone up by ten points.]\\n'\n",
      "Action from walkthrough: E\n",
      "\n",
      "State: b'\\n\\n<< Music Store >>\\nYou are in a music store. You ask the man behind the counter if he knew any information. \"Uhh... nope! But the guy back there might be able ta help.\" You politly thank him and head to the back. You can only go north.\\n\\n[Your score has just gone up by ten points.]\\n'\n",
      "Action from walkthrough: N\n",
      "\n",
      "State: b'\\n\\n<< Back of Music Store >>\\nYou are in the back of the music store. You ask the guy who\\'s looking at the cool tapes. He looks up at you. \"Duh.. no... don\\'t t\\'ink so... lemme see...\" You decide that he\\'s no help. To the west there is a dazed looking man and to the north there is an exit.\\n\\n[Your score has just gone up by ten points.]\\n'\n",
      "Action from walkthrough: N\n",
      "\n",
      "State: b'\\n\\n<< Alley >>\\nYou are in an alley. A drunken man stagers up to you and says \"Boycott FDR! <HICKUP>.\". You just walk away. You can go north, east or west. Your call.\\n\\n[Your score has just gone up by ten points.]\\n'\n",
      "Action from walkthrough: N\n",
      "\n",
      "State: b'\\n\\n<< Police Station >>\\nYou are in the 3rd precinct police station. This isn\\'t your station. You get admitance from the guy at the desk and go to the holding cells. You ask each offender if they know anything. You promise a lighter sentence for the ones who help. But one guy really sets you straight. \"I got caught wit\\' t\\'ree ounces o\\' crack. I\\'m supposed to get 20 years but I\\'ll be out in 2. You can\\'t make me talk cuz it don\\'t matter to me. If I squeal, da guys who did it are gonna come lookin\\' for me. I know but I ain\\'t gonna tell ya. Now git outta my face.\". You are surprised but used to it. You can go north to the outside, south to go back to the alley and west or east to talk to more guys.\\n\\n[Your score has just gone up by ten points.]\\n'\n",
      "Action from walkthrough: N\n",
      "\n",
      "State: b\"\\n\\n<< Outside >>\\nYou are outside. it's bitter cold and you pull your jacket around yourself. To the north is a nice, warm Holiday Inn hotel, where the killer is rumoured to be staying. Or you could go to his favourite hang out, the Wall, to the west, or to the east is the place where he is supposed to be working, the Doughnut King.\\n\\n[Your score has just gone up by ten points.]\\n\"\n",
      "Action from walkthrough: E\n",
      "\n",
      "State: b\"\\n\\n<< Doughnut King >>\\nYou are in the Doughnut King, where the greasiest doughnuts on earth reside. He isn't here, no one seems to be for that matter, so you should go west.\\n\\n[Your score has just gone up by ten points.]\\n\"\n",
      "Action from walkthrough: W\n",
      "\n",
      "State: b\"\\n\\n<< Outside >>\\nYou are outside. it's bitter cold and you pull your jacket around yourself. To the north is a nice, warm Holiday Inn hotel, where the killer is rumoured to be staying. Or you could go to his favourite hang out, the Wall, to the west, or to the east is the place where he is supposed to be working, the Doughnut King.\\n\"\n",
      "Action from walkthrough: W\n",
      "\n",
      "State: b\"\\n\\n<< The Wall >>\\nYou don't see him here. You ought to go east.\\n\\n[Your score has just gone up by ten points.]\\n\"\n",
      "Action from walkthrough: E\n",
      "\n",
      "State: b\"\\n\\n<< Outside >>\\nYou are outside. it's bitter cold and you pull your jacket around yourself. To the north is a nice, warm Holiday Inn hotel, where the killer is rumoured to be staying. Or you could go to his favourite hang out, the Wall, to the west, or to the east is the place where he is supposed to be working, the Doughnut King.\\n\"\n",
      "Action from walkthrough: N\n",
      "\n",
      "State: b'\\n\\n<< Holiday Inn >>\\nYou are in the Holiday Inn registration room. You talk to some suspicious guys, but they don\\'t talk until you hold your gun to their side. \"Alright! Alright! I\\'ll talk! He\\'s on the 15th floor! That\\'s all I can tell ya!\" You shove them away. You walk up to the registration desk and show the woman there your badge. She gives you the master ring. You now have access to all of the facilitys on the 15th floor. But the problem is that the 15th floor is the suite level, and there are 30 suites, and 5 pools, 2 saunas and 5 game rooms. Big problem! Well, you have all night. You get a picture of all on the 15th floor, the people up there have to show their drivers license to be admitted, and the license is secretly xeroxed. You look at them all. Well, better get started. You see one person who stands out. You get his room number from the lady. Room 30. Now you have to find it. To get started, go north.\\n\\n[Your score has just gone up by ten points.]\\n'\n",
      "Action from walkthrough: W\n",
      "\n",
      "State: b'\\nYou can\\'t go west from here!\\n\\n<< Holiday Inn >>\\nYou are in the Holiday Inn registration room. You talk to some suspicious guys, but they don\\'t talk until you hold your gun to their side. \"Alright! Alright! I\\'ll talk! He\\'s on the 15th floor! That\\'s all I can tell ya!\" You shove them away. You walk up to the registration desk and show the woman there your badge. She gives you the master ring. You now have access to all of the facilitys on the 15th floor. But the problem is that the 15th floor is the suite level, and there are 30 suites, and 5 pools, 2 saunas and 5 game rooms. Big problem! Well, you have all night. You get a picture of all on the 15th floor, the people up there have to show their drivers license to be admitted, and the license is secretly xeroxed. You look at them all. Well, better get started. You see one person who stands out. You get his room number from the lady. Room 30. Now you have to find it. To get started, go north.\\n'\n",
      "Action from walkthrough: N\n",
      "\n",
      "State: b'\\n\\n<< Holiday Inn 15th Floor >>\\nYou go up the elevator. When you step out, you see the wallpaper is pink, with little flowers on it. You can go east or west.\\n\\n[Your score has just gone up by ten points.]\\n'\n",
      "Action from walkthrough: W\n",
      "\n",
      "State: b'\\n\\n<< Hallway >>\\nYou are in the hallway. You see many doors... 1... 2... 3... 4... 5... 6... 7... boy, you have a long way to go. You can only go north.\\n\\n[Your score has just gone up by ten points.]\\n'\n",
      "Action from walkthrough: N\n",
      "\n",
      "State: b'\\n\\n<< Hallway >>\\nYou are still in the hallways. You can go west or east.\\n\\n[Your score has just gone up by ten points.]\\n'\n",
      "Action from walkthrough: N\n",
      "\n",
      "State: b\"\\nYou can't go north from here!\\n\\n<< Hallway >>\\nYou are still in the hallways. You can go west or east.\\n\"\n",
      "Action from walkthrough: w\n",
      "\n",
      "State: b'\\n\\n<< Hallway >>\\nYou are in the hallway. You see numbers flash by as you run through the halls. 19... 20... 21... 22... you are getting close! You can only go north.\\n\\n[Your score has just gone up by ten points.]\\n'\n",
      "Action from walkthrough: n\n",
      "\n",
      "State: b'\\n\\n<< Hallway >>\\nYou are in the hallway. You feel the heat from the sauna to the west, and to the east is a door marked \"Pool A\". To the north is more hall.\\n\\n[Your score has just gone up by ten points.]\\n'\n",
      "Action from walkthrough: n\n",
      "\n",
      "State: b'\\n\\n<< Room # 30 >>\\nYou enter room 30... after a harrowing gun battle you conk him on the head and take him in. You get promoted and suddenly, with the \"Jurrasic Park\" theme song playing in your head, you feel proud to be an American. For special info about Exile Games, and to leave this darned game, go up.\\n\\n[Your score has just gone up by one hundred points.]\\n'\n",
      "Action from walkthrough: up\n",
      "\n"
     ]
    }
   ],
   "source": [
    "env.reset()\n",
    "\n",
    "for action in env.get_walkthrough():\n",
    "    print(f'State: {env.get_state()[-1]}')\n",
    "    print(f'Action from walkthrough: {action}')\n",
    "    env.step(action)\n",
    "    print()"
   ]
  },
  {
   "cell_type": "code",
   "execution_count": 8,
   "metadata": {
    "ExecuteTime": {
     "end_time": "2020-06-24T07:27:25.946904Z",
     "start_time": "2020-06-24T07:27:25.937526Z"
    }
   },
   "outputs": [
    {
     "data": {
      "text/plain": [
       "360"
      ]
     },
     "execution_count": 8,
     "metadata": {},
     "output_type": "execute_result"
    }
   ],
   "source": [
    "env.get_score()"
   ]
  },
  {
   "cell_type": "markdown",
   "metadata": {},
   "source": [
    "### An agent that learns from the environment\n",
    "\n",
    "Attempting Q-learning, based on Lab 4 Tic-Tac-Toe Agent\n",
    "\n",
    "# NOTE: To improve performance, memoize seen states and their .get_valid_actions() actions?"
   ]
  },
  {
   "cell_type": "code",
   "execution_count": 9,
   "metadata": {
    "ExecuteTime": {
     "end_time": "2020-06-24T07:27:43.021689Z",
     "start_time": "2020-06-24T07:27:43.002404Z"
    }
   },
   "outputs": [],
   "source": [
    "class Agent():\n",
    "    '''A Q-learning agent with TD(0) updates, compatible with Jericho's FrotzEnv for interactive fiction'''\n",
    "    \n",
    "    def __init__(self, env, epsilon=0.1, alpha=1, gamma=0.999, default_actions=['n','s','e','w']):\n",
    "        self.V = dict() # Build up the values of different states as we encounter them; Note the Markov assumption\n",
    "        self.game = env  # Need to initialize as FrotzEnv(\"path-to-game-file.z3/5/8\"); .reset() for new game\n",
    "        self.epsilon = epsilon\n",
    "        self.alpha = alpha  # Learning rate; proportion of updated Q-value that consists of the new Q-value\n",
    "        self.gamma = gamma  # Discount factor on future rewards\n",
    "        self.default_actions = default_actions  # For edge case where self.game.get_valid_actions() = [];\n",
    "                                                # e.g. A direction gets agent out of loop in Detective\n",
    "    \n",
    "    def get_sa_value(self, state, action):\n",
    "        '''Look up state-action value. If never seen state-action combo, then assume neutral.'''\n",
    "        if state in self.V.keys():\n",
    "            if action in self.V[state].keys():\n",
    "                return self.V[state][action]\n",
    "        return 0\n",
    "    \n",
    "    def put_sa_value(self, state, action, value):\n",
    "        if state not in self.V.keys():\n",
    "            self.V[state] = dict()\n",
    "        self.V[state][action] = value\n",
    "    \n",
    "    def get_max_state_value(self, state):\n",
    "        if state not in self.V.keys():  # If state not encountered yet, its max value is initial val of 0\n",
    "            return 0\n",
    "        else:\n",
    "            return max(self.V[state].values())\n",
    "    \n",
    "    def find_best_action(self):\n",
    "        '''Find best action when exploiting/maximizing expected value (greedy choice)'''\n",
    "        state = self.game.get_state()[-1]\n",
    "        max_val = self.get_max_state_value(state)\n",
    "        available_actions = self.game.get_valid_actions()\n",
    "        if not available_actions: available_actions = self.default_actions  # For edge case of no valid actions\n",
    "        max_val_actions = [a for a in available_actions if self.get_sa_value(state, a)==max_val]\n",
    "        return random.choice(max_val_actions)\n",
    "        \n",
    "    def learn_select_action(self):\n",
    "        '''Select best action with probability 1-epsilon (exploit), select random action with probability \n",
    "        epsilon (explore)'''\n",
    "        best_action = self.find_best_action()\n",
    "        available_actions = self.game.get_valid_actions()\n",
    "        if not available_actions: available_actions = self.default_actions  # For edge case of no valid actions\n",
    "        if np.random.uniform(0, 1) < self.epsilon:\n",
    "            return random.choice(available_actions)\n",
    "        else:\n",
    "            return best_action\n",
    "    \n",
    "    def learn_from_action(self):\n",
    "        \"Q-learning\"\n",
    "        state = self.game.get_state()[-1]  # s: Current state\n",
    "        action = self.learn_select_action()\n",
    "        \n",
    "        Q_sa = self.get_sa_value(state, action)  # Q(s, a): Current state value. self.V[state][action]\n",
    "        # NOTE: This steps the game forward to the next state!! Don't step again!\n",
    "        state_prime, reward, _, _ = self.game.step(action)\n",
    "        max_a_Q_sa = self.get_max_state_value(state_prime)  # max a  Q(s',a): Action that maxim. future value\n",
    "        \n",
    "        # Update the Q-value with the current Q-value + (learning rate)*(new Q-value - current Q-value)\n",
    "        # Q(s, a) <- Q(s, a) + alpha*(r + gamma*(max a  Q(s',a)) - Q(s, a))\n",
    "        new_Q_sa = Q_sa + self.alpha*(reward + self.gamma*max_a_Q_sa - Q_sa)\n",
    "        self.put_sa_value(state, action, new_Q_sa)\n",
    "        \n",
    "    def learn_from_episode(self):\n",
    "        \"Update Values based on reward.\"\n",
    "        self.game.reset()\n",
    "        while not self.game.game_over() or self.game.victory():\n",
    "            self.learn_from_action()\n",
    "        # NOTE: The line below is to update the value in V for last state, after the game ends.\n",
    "        # Since we get points throughout the game, and since (e.g. in Detective) you get a lot of points for\n",
    "        # winning the game, and value updates for those points are captured prior to the terminal state,\n",
    "        # we do not need to save a reward for the terminal state. \n",
    "        # If we do, the reward is likely 0 \n",
    "        # (or current state's .get_score() - previous state's .get_score(); configure in learn_from action)\n",
    "        #self.V[self.game.get_state()[-1]][''] = 0\n",
    "    \n",
    "    def learn_game(self, n_episodes=1_000):\n",
    "        \"Let's learn through complete experience to get that reward.\"\n",
    "        for episode in range(1, n_episodes+1):\n",
    "            self.learn_from_episode()\n",
    "            # NOTE: CLEAN UP LATER: Adding printing while troubleshooting\n",
    "            #if episode%100==0:\n",
    "            print(f'Episode {episode}')\n",
    "            print(f'Score of game: {self.game.get_score()}')\n",
    "    \n",
    "# Game demo functions\n",
    "    def play_select_action():\n",
    "        pass\n",
    "    \n",
    "    def demo_game():\n",
    "        pass\n",
    "    \n",
    "    def interactive_game():\n",
    "        pass\n",
    "    \n",
    "    def request_human_action():\n",
    "        pass\n",
    "    "
   ]
  },
  {
   "cell_type": "code",
   "execution_count": 10,
   "metadata": {
    "ExecuteTime": {
     "end_time": "2020-06-24T07:27:45.283558Z",
     "start_time": "2020-06-24T07:27:45.263729Z"
    }
   },
   "outputs": [],
   "source": [
    "agent = Agent(FrotzEnv(story_file))"
   ]
  },
  {
   "cell_type": "code",
   "execution_count": 11,
   "metadata": {
    "ExecuteTime": {
     "end_time": "2020-06-24T07:32:34.328338Z",
     "start_time": "2020-06-24T07:29:01.408891Z"
    }
   },
   "outputs": [
    {
     "name": "stdout",
     "output_type": "stream",
     "text": [
      "Episode 1\n",
      "Score of game: 70\n",
      "Episode 2\n",
      "Score of game: 50\n",
      "Episode 3\n",
      "Score of game: 100\n",
      "Episode 4\n",
      "Score of game: 60\n",
      "Episode 5\n",
      "Score of game: 70\n",
      "Episode 6\n",
      "Score of game: 100\n",
      "Episode 7\n",
      "Score of game: 130\n",
      "Episode 8\n",
      "Score of game: 50\n",
      "Episode 9\n",
      "Score of game: 70\n",
      "Episode 10\n",
      "Score of game: 120\n"
     ]
    }
   ],
   "source": [
    "agent.learn_game(10)"
   ]
  },
  {
   "cell_type": "markdown",
   "metadata": {},
   "source": [
    "Go from end to end\n",
    "\n",
    "Parking lot of ideas to implement if time<br>\n",
    "    -Experience Replay: Keep working memory of what I've seen. Make updates to Q-function: Good for sparse rewards<br>\n",
    "    -Use Q-learning agent for other interactive fiction stories<br>\n",
    "\n",
    "But finish Q-learning first and have it perform above random\n",
    "\n",
    "\n",
    "Rubric: \n",
    "Need at least 1 notebook (training notebook)<br>\n",
    "Up to me if I want to move things into modules (scripts) and import\n",
    "\n",
    "\n",
    "Explain: What is and is not possible (e.g. can't just throw into OpenAI)"
   ]
  },
  {
   "cell_type": "markdown",
   "metadata": {},
   "source": [
    "### Agent from stable-baselines\n",
    "\n",
    "Need to define custom environmemt to connect to Stable Baselines agents (which themselves are based on OpenAI Gym)\n",
    "https://stable-baselines.readthedocs.io/en/master/guide/custom_env.html"
   ]
  },
  {
   "cell_type": "code",
   "execution_count": null,
   "metadata": {
    "ExecuteTime": {
     "end_time": "2020-06-23T05:38:20.576425Z",
     "start_time": "2020-06-23T05:38:20.565268Z"
    }
   },
   "outputs": [],
   "source": [
    "import gym\n",
    "from gym import spaces\n",
    "\n",
    "class IFEnv(gym.Env, FrotzEnv):\n",
    "    '''Interactive Fiction that follows gym interface and inherits from Jericho's FrotzEnv'''\n",
    "    metadata = {'render.modes': ['human']}\n",
    "\n",
    "    def __init__(self, story_file, seed=None):\n",
    "        self.story_file = story_file\n",
    "        self._seed = seed\n",
    "        super().__init__(self.story_file, self._seed)\n",
    "        \n",
    "        self.action_dict = dict()\n",
    "        self.observation_dict = dict()\n",
    "        self.n_actions = -1\n",
    "        self.n_states = -1\n",
    "        # Define action and observation space\n",
    "        # They must be gym.spaces objects\n",
    "        # Example when using discrete actions:\n",
    "        self.action_space = spaces.Discrete(self.n_actions)\n",
    "        self.observation_space = spaces.Discrete(self.n_states)\n",
    "        # Example for using image as input:\n",
    "        #self.observation_space = spaces.Box(low=0, high=255,\n",
    "                                            #shape=(HEIGHT, WIDTH, N_CHANNELS), dtype=np.uint8)\n",
    "    \n",
    "    # Feature hashing: Consistently map feature to hashed value in lookup table \n",
    "    \n",
    "    def update_action_dictionary(self):\n",
    "        available_actions = self.get_valid_actions()\n",
    "        for a in available_actions:\n",
    "            if a not in self.action_dict.keys():\n",
    "                self.n_actions += 1\n",
    "                self.action_dict[a] = self.n_actions\n",
    "    \n",
    "    def update_observation_dictionary(self):\n",
    "        state = self.get_state[-1]\n",
    "        if state not in self.observation_dict.keys():\n",
    "            self.n_states += 1\n",
    "            self.\n",
    "    \n",
    "        \n",
    "    def step(self, action):\n",
    "        '''Make one time step using given action. Return next obs, reward, done (is game over), info'''\n",
    "        observation, reward, done, info = self.step(action)\n",
    "        return observation, reward, done, info\n",
    "    \n",
    "    def reset(self):\n",
    "        '''Reset game to initial state'''\n",
    "        self.reset()\n",
    "        return self.get_state()[-1]  # reward, done, info can't be included\n",
    "    \n",
    "#     def render(self, mode='human'):\n",
    "#     ...\n",
    "    \n",
    "#     def close (self):\n",
    "#     ..."
   ]
  },
  {
   "cell_type": "code",
   "execution_count": null,
   "metadata": {
    "ExecuteTime": {
     "end_time": "2020-06-23T06:07:02.832280Z",
     "start_time": "2020-06-23T06:07:02.823281Z"
    }
   },
   "outputs": [],
   "source": [
    "action_dictionary = {'north':0, 'south':1, 'east':2, 'west':3}\n",
    "max(action_dictionary.values())"
   ]
  },
  {
   "cell_type": "markdown",
   "metadata": {},
   "source": [
    "**TO DO:** Currently needs seed=int, breaks if seed=None. Need to fix"
   ]
  },
  {
   "cell_type": "code",
   "execution_count": null,
   "metadata": {
    "ExecuteTime": {
     "end_time": "2020-06-23T05:41:09.300151Z",
     "start_time": "2020-06-23T05:41:09.296196Z"
    }
   },
   "outputs": [],
   "source": [
    "from stable_baselines.common.env_checker import check_env\n",
    "from stable_baselines import A2C"
   ]
  },
  {
   "cell_type": "code",
   "execution_count": null,
   "metadata": {
    "ExecuteTime": {
     "end_time": "2020-06-23T05:40:15.723332Z",
     "start_time": "2020-06-23T05:40:15.692370Z"
    }
   },
   "outputs": [],
   "source": [
    "env = IFEnv(\"z-machine-games-master/jericho-game-suite/detective.z5\", 1)  "
   ]
  },
  {
   "cell_type": "code",
   "execution_count": null,
   "metadata": {
    "ExecuteTime": {
     "end_time": "2020-06-23T05:40:20.126121Z",
     "start_time": "2020-06-23T05:40:19.898486Z"
    }
   },
   "outputs": [],
   "source": [
    "# It will check your custom environment and output additional warnings if needed\n",
    "check_env(env)"
   ]
  },
  {
   "cell_type": "code",
   "execution_count": null,
   "metadata": {
    "ExecuteTime": {
     "end_time": "2020-06-23T05:41:15.248526Z",
     "start_time": "2020-06-23T05:41:15.154657Z"
    }
   },
   "outputs": [],
   "source": [
    "# Then you can define and train a RL agent with:\n",
    "\n",
    "# Define and Train the agent\n",
    "model = A2C('CnnPolicy', env).learn(total_timesteps=1000)"
   ]
  }
 ],
 "metadata": {
  "kernelspec": {
   "display_name": "Python 3",
   "language": "python",
   "name": "python3"
  },
  "language_info": {
   "codemirror_mode": {
    "name": "ipython",
    "version": 3
   },
   "file_extension": ".py",
   "mimetype": "text/x-python",
   "name": "python",
   "nbconvert_exporter": "python",
   "pygments_lexer": "ipython3",
   "version": "3.7.3"
  }
 },
 "nbformat": 4,
 "nbformat_minor": 4
}
