{
 "cells": [
  {
   "cell_type": "code",
   "execution_count": 1,
   "metadata": {
    "ExecuteTime": {
     "end_time": "2020-06-19T21:03:50.194826Z",
     "start_time": "2020-06-19T21:03:49.706233Z"
    }
   },
   "outputs": [],
   "source": [
    "from jericho import *"
   ]
  },
  {
   "cell_type": "markdown",
   "metadata": {},
   "source": [
    "### Game environment and navigation exploration"
   ]
  },
  {
   "cell_type": "code",
   "execution_count": 2,
   "metadata": {
    "ExecuteTime": {
     "end_time": "2020-06-19T21:03:51.072646Z",
     "start_time": "2020-06-19T21:03:51.030992Z"
    }
   },
   "outputs": [],
   "source": [
    "# Create the environment, optionally specifying a random seed\n",
    "\n",
    "# afflicted (creepy), awaken, deephome, detective (seems simple, take paper, directions), \n",
    "# dragon (similar), huntdark (x shape, ahead, cock crossbow), \n",
    "# loose (short, knock knock, here kitty kitty, sw, take/open/drop pot), \n",
    "# night (2 word and directions), pentari (short, 2 word and directions)\n",
    "# snacktime (short, about being a kid? 2 word, directions, selection)\n",
    "# zenon (short, 2 word, selection, directions, ask x about y, give x to y)\n",
    "\n",
    "# More complicated but maybe ok: \n",
    "# enchanter, murdac (drop all, take lamp, sw, wait)\n",
    "\n",
    "\n",
    "# 6/19/20: Choose detective game\n",
    "env = FrotzEnv(\"z-machine-games-master/jericho-game-suite/detective.z5\")"
   ]
  },
  {
   "cell_type": "code",
   "execution_count": 3,
   "metadata": {
    "ExecuteTime": {
     "end_time": "2020-06-19T21:03:53.102871Z",
     "start_time": "2020-06-19T21:03:53.091228Z"
    }
   },
   "outputs": [
    {
     "name": "stdout",
     "output_type": "stream",
     "text": [
      "Recognized Vocabulary Words [., ,, a, about, abstract, actions, adjust, again, against, all, amusing, an, and, another, answer, ask, at, attach, attack, awake, awaken, black, blow, both, bother, break, brief, burn, but, buy, carry, ceiling, changes, check, chop, clean, clear, climb, close, comma,, consult, cover, crack, cross, curses, cut, d, daemons, damn, darn, dazed, describe, destroy, die, dig, discard, display, disrobe, dive, doff, don, down, drag, drat, drink, drop, dust, e, each, east, eat, eight, eighteen, eleven, embrace, empty, enter, every, everythin, examine, except, exit, fasten, feed, feel, fifteen, fight, fill, five, fix, floor, fondle, food, footnote, footnotes, for, four, fourteen, from, fuck, full, fullscore, g, get, give, go, gonear, goto, grope, gun, guy, hamburger, hear, help, her, him, his, hit, hold, hop, hug, i, in, info, informati, insert, inside, into, inv, inventory, it, its, jump, kill, kiss, l, leave, lie, light, lighted, limbo, listen, lit, lock, long, look, man, manual, me, melenkuri, messages, move, murder, my, myself, n, nap, ne, nine, nineteen, no, normal, north, northeast, northwest, noscript, noside, note, notify, nouns, nw, o, objects, of, off, offer, on, one, onto, oops, open, other, out, outside, over, paper, pay, peel, pick, piece, pistol, places, plover, plugh, polish, pray, present, press, pronouns, prune, pull, punch, purchase, purloin, push, put, q, quit, random, read, recording, remove, replay, restart, restore, rotate, routines, rub, run, s, samoht, save, say, scale, scope, score, screw, script, scrub, se, search, self, set, seven, seventeen, shed, shift, shine, shit, shoot, short, shout, show, showobj, showverb, shut, sing, sip, sit, six, sixteen, skip, sleep, slice, small, smash, smell, sniff, sod, some, sorry, south, southeast, southwest, speak, squash, squeeze, stand, superbrie, sw, swallow, sweep, swim, swing, switch, take, tall, taste, tell, ten, that, the, their, them, then, these, think, thirteen, this, those, three, through, throw, thump, tie, timers, to, top, torture, touch, trace, transcrip, transfer, tree, turn, twelve, twenty, twist, two, u, uncover, under, undo, unlit, unlock, unscrew, unscript, unwrap, up, verbose, verify, version, w, wait, wake, walk, wall, watch, wave, wear, west, white, wide, wipe, with, wood, wooden, wreck, x, xyzzy, y, yes, z, zorton]\n"
     ]
    }
   ],
   "source": [
    "print('Recognized Vocabulary Words', list(env.get_dictionary()))"
   ]
  },
  {
   "cell_type": "code",
   "execution_count": 5,
   "metadata": {
    "ExecuteTime": {
     "end_time": "2020-06-18T05:20:32.085717Z",
     "start_time": "2020-06-18T05:20:32.080171Z"
    }
   },
   "outputs": [
    {
     "name": "stdout",
     "output_type": "stream",
     "text": [
      "['TAKE PAPER', 'READ PAPER', 'DROP PAPER', 'INVENTORY', 'W', 'TAKE GUN', 'E', 'N', 'W', 'E', 'E', 'TAKE WOOD', 'W', 'W', 'TAKE NOTE', 'READ NOTE', 'E', 'N', 'N', 'W', 'N', 'N', 'W', 'E', 'N', 'E', 'E', 'E', 'S', 'TAKE HAMBURGER', 'N', 'N', 'E', 'N', 'N', 'N', 'N', 'E', 'W', 'W', 'E', 'N', 'W', 'N', 'W', 'N', 'N', 'w', 'n', 'n', 'up']\n"
     ]
    }
   ],
   "source": [
    "# step through the set of steps to win\n",
    "walkthrough = env.get_walkthrough()\n",
    "print(walkthrough)\n",
    "\n",
    "# for act in walkthrough:\n",
    "#     print(act)\n",
    "#     env.step(act)"
   ]
  },
  {
   "cell_type": "code",
   "execution_count": 29,
   "metadata": {
    "ExecuteTime": {
     "end_time": "2020-06-18T05:30:53.517157Z",
     "start_time": "2020-06-18T05:30:53.509935Z"
    }
   },
   "outputs": [
    {
     "data": {
      "text/plain": [
       "(array([  5, 128,   0, ...,   0,   0,   0], dtype=uint8),\n",
       " array([ 0,  0,  0, ...,  0, 37,  0], dtype=uint8),\n",
       " 28854,\n",
       " 936,\n",
       " 938,\n",
       " 8,\n",
       " (-267209380, 0, 0),\n",
       " b'\\nTaken.\\n\\n[Your score has just gone up by ten points.]\\n')"
      ]
     },
     "execution_count": 29,
     "metadata": {},
     "output_type": "execute_result"
    }
   ],
   "source": [
    "# Get current state of environment\n",
    "env.get_state()"
   ]
  },
  {
   "cell_type": "code",
   "execution_count": 30,
   "metadata": {
    "ExecuteTime": {
     "end_time": "2020-06-18T05:30:54.144361Z",
     "start_time": "2020-06-18T05:30:54.004976Z"
    }
   },
   "outputs": [
    {
     "data": {
      "text/plain": [
       "['north', 'put pistol down', 'east']"
      ]
     },
     "execution_count": 30,
     "metadata": {},
     "output_type": "execute_result"
    }
   ],
   "source": [
    "env.get_valid_actions()"
   ]
  },
  {
   "cell_type": "code",
   "execution_count": 42,
   "metadata": {
    "ExecuteTime": {
     "end_time": "2020-06-18T05:34:16.197365Z",
     "start_time": "2020-06-18T05:34:16.191301Z"
    }
   },
   "outputs": [
    {
     "data": {
      "text/plain": [
       "('\\n\\n<< Closet >>\\nYou are in a closet. There is a gun on the floor. Better get it. To exit, go east.\\n',\n",
       " 0,\n",
       " False,\n",
       " {'moves': 9, 'score': 20})"
      ]
     },
     "execution_count": 42,
     "metadata": {},
     "output_type": "execute_result"
    }
   ],
   "source": [
    "env.step('w')"
   ]
  },
  {
   "cell_type": "code",
   "execution_count": 43,
   "metadata": {
    "ExecuteTime": {
     "end_time": "2020-06-18T05:34:19.522519Z",
     "start_time": "2020-06-18T05:34:19.517302Z"
    }
   },
   "outputs": [
    {
     "data": {
      "text/plain": [
       "9"
      ]
     },
     "execution_count": 43,
     "metadata": {},
     "output_type": "execute_result"
    }
   ],
   "source": [
    "# How many steps agent made in episode so far\n",
    "env.get_moves()"
   ]
  },
  {
   "cell_type": "code",
   "execution_count": 36,
   "metadata": {
    "ExecuteTime": {
     "end_time": "2020-06-18T05:33:37.383847Z",
     "start_time": "2020-06-18T05:33:37.380950Z"
    }
   },
   "outputs": [],
   "source": [
    "#state = env.get_state()\n",
    "#env.set_state(state)  # sets state to one you've saved (e.g. go back to prior state)"
   ]
  },
  {
   "cell_type": "code",
   "execution_count": 44,
   "metadata": {
    "ExecuteTime": {
     "end_time": "2020-06-18T05:34:22.239692Z",
     "start_time": "2020-06-18T05:34:22.233799Z"
    }
   },
   "outputs": [
    {
     "data": {
      "text/plain": [
       "Obj35: Closet Parent0 Sibling0 Child90 Attributes [8, 10, 25] Properties [46, 35, 18, 17, 16, 15, 14, 13, 12, 11, 10, 9, 8, 7, 2]"
      ]
     },
     "execution_count": 44,
     "metadata": {},
     "output_type": "execute_result"
    }
   ],
   "source": [
    "# Returns the jericho.ZObject corresponding to the location of the player in the world.\n",
    "# (at current move)\n",
    "env.get_player_location()"
   ]
  },
  {
   "cell_type": "code",
   "execution_count": 47,
   "metadata": {
    "ExecuteTime": {
     "end_time": "2020-06-18T05:35:03.886097Z",
     "start_time": "2020-06-18T05:35:03.880454Z"
    }
   },
   "outputs": [
    {
     "data": {
      "text/plain": [
       "Obj90: you Parent35 Sibling0 Child93 Attributes [1, 4, 17, 24] Properties [48, 46, 45, 42, 41, 35]"
      ]
     },
     "execution_count": 47,
     "metadata": {},
     "output_type": "execute_result"
    }
   ],
   "source": [
    "# Returns the jericho.ZObject corresponding to the player.\n",
    "env.get_player_object()"
   ]
  },
  {
   "cell_type": "code",
   "execution_count": 45,
   "metadata": {
    "ExecuteTime": {
     "end_time": "2020-06-18T05:34:24.148011Z",
     "start_time": "2020-06-18T05:34:24.142283Z"
    }
   },
   "outputs": [
    {
     "data": {
      "text/plain": [
       "False"
      ]
     },
     "execution_count": 45,
     "metadata": {},
     "output_type": "execute_result"
    }
   ],
   "source": [
    "# Returns True if the game is over and the player has won.\n",
    "env.victory()"
   ]
  },
  {
   "cell_type": "code",
   "execution_count": 38,
   "metadata": {
    "ExecuteTime": {
     "end_time": "2020-06-18T05:33:39.170560Z",
     "start_time": "2020-06-18T05:33:39.163360Z"
    }
   },
   "outputs": [
    {
     "name": "stdout",
     "output_type": "stream",
     "text": [
      "Me: Obj90: you Parent34 Sibling92 Child93 Attributes [1, 4, 17, 24] Properties [48, 46, 45, 42, 41, 35]\n",
      "My Inventory: [Obj93: small black pistol Parent90 Sibling0 Child0 Attributes [13, 19, 26] Properties [35, 1]]\n",
      "My Current Location: Obj34: Chief's office Parent0 Sibling0 Child90 Attributes [8, 10, 19, 25] Properties [46, 35, 18, 17, 16, 15, 14, 13, 12, 11, 10, 9, 8, 7, 2]\n"
     ]
    }
   ],
   "source": [
    "# See objects in world\n",
    "all_objects = env.get_world_objects()\n",
    "print('Me:', env.get_player_object())\n",
    "print('My Inventory:', env.get_inventory())\n",
    "print('My Current Location:', env.get_player_location())"
   ]
  },
  {
   "cell_type": "code",
   "execution_count": 39,
   "metadata": {
    "ExecuteTime": {
     "end_time": "2020-06-18T05:33:40.997189Z",
     "start_time": "2020-06-18T05:33:40.991546Z"
    }
   },
   "outputs": [
    {
     "data": {
      "text/plain": [
       "360"
      ]
     },
     "execution_count": 39,
     "metadata": {},
     "output_type": "execute_result"
    }
   ],
   "source": [
    "# Get max score of game\n",
    "env.get_max_score()"
   ]
  },
  {
   "cell_type": "code",
   "execution_count": 48,
   "metadata": {
    "ExecuteTime": {
     "end_time": "2020-06-18T05:56:05.501923Z",
     "start_time": "2020-06-18T05:56:05.490670Z"
    }
   },
   "outputs": [
    {
     "data": {
      "text/plain": [
       "('\\n\\n\\n\\n[Type \"help\" for more information about this version]\\n\\nDetective\\nBy Matt Barringer.\\nPorted by Stuart Moore.\\nStuart_Moore@my-deja.com\\nRelease 1 / Serial number 000715 / Inform v6.21 Library 6/10 SD\\n\\n<< Chief\\'s office >>\\nYou are standing in the Chief\\'s office. He is telling you \"The Mayor was murdered yeaterday night at 12:03 am. I want you to solve it before we get any bad publicity or the FBI has to come in. \"Yessir!\" You reply. He hands you a sheet of paper. Once you have read it, go north or west.\\n\\nYou can see a piece of white paper here.\\n\\n[Your score has just gone up by ten points.]\\n',\n",
       " {'moves': 1, 'score': 10})"
      ]
     },
     "execution_count": 48,
     "metadata": {},
     "output_type": "execute_result"
    }
   ],
   "source": [
    "# How to reset game to initial state\n",
    "env.reset()"
   ]
  },
  {
   "cell_type": "markdown",
   "metadata": {},
   "source": [
    "### Set up what we need for RL"
   ]
  },
  {
   "cell_type": "code",
   "execution_count": 52,
   "metadata": {
    "ExecuteTime": {
     "end_time": "2020-06-18T06:08:34.533765Z",
     "start_time": "2020-06-18T06:08:34.525096Z"
    }
   },
   "outputs": [
    {
     "name": "stdout",
     "output_type": "stream",
     "text": [
      "[., ,, a, abstract, again, all, amusing, an, and, another, black, both, brief, but, ceiling, comma,, d, dazed, down, e, each, east, eight, eighteen, eleven, every, everythin, except, fifteen, five, floor, food, four, fourteen, full, fullscore, g, gonear, gun, guy, hamburger, her, him, his, i, inv, inventory, it, its, l, lie, lighted, limbo, lit, long, man, me, my, myself, n, ne, nine, nineteen, no, normal, north, northeast, northwest, note, nw, o, of, one, oops, other, paper, piece, pistol, purloin, q, quit, restart, restore, s, scope, se, self, seven, seventeen, short, showobj, sit, six, sixteen, small, some, south, southeast, southwest, stand, sw, ten, that, the, their, them, then, these, thirteen, this, those, three, to, tree, twelve, twenty, two, u, undo, unlit, up, verbose, w, wall, west, white, wood, wooden, x, y, yes, z]\n",
      "\n",
      "[about, abstract, actions, adjust, answer, ask, attach, attack, awake, awaken, blow, bother, break, brief, burn, buy, carry, changes, check, chop, clean, clear, climb, close, consult, cover, crack, cross, curses, cut, daemons, damn, darn, describe, destroy, die, dig, discard, display, disrobe, dive, doff, don, drag, drat, drink, drop, dust, eat, embrace, empty, enter, examine, exit, fasten, feed, feel, fight, fill, fix, fondle, footnote, fuck, full, fullscore, get, give, go, gonear, goto, grope, hear, help, hit, hold, hop, hug, i, in, info, informati, insert, inside, inv, inventory, jump, kill, kiss, l, leave, lie, light, listen, lock, long, look, manual, melenkuri, messages, move, murder, nap, no, normal, noscript, noside, note, notify, nouns, objects, offer, open, out, outside, pay, peel, pick, places, plover, plugh, polish, pray, present, press, pronouns, prune, pull, punch, purchase, purloin, push, put, q, quit, random, read, recording, remove, replay, restart, restore, rotate, routines, rub, run, samoht, save, say, scale, scope, score, screw, script, scrub, search, set, shed, shift, shine, shit, shoot, short, shout, show, showobj, showverb, shut, sing, sip, sit, skip, sleep, slice, smash, smell, sniff, sod, sorry, speak, squash, squeeze, stand, superbrie, swallow, sweep, swim, swing, switch, take, taste, tell, think, throw, thump, tie, timers, torture, touch, trace, transcrip, transfer, tree, turn, twist, uncover, undo, unlock, unscrew, unscript, unwrap, verbose, verify, version, wait, wake, walk, watch, wave, wear, wipe, wreck, x, xyzzy, y, yes, z, zorton]\n",
      "\n",
      "[]\n"
     ]
    }
   ],
   "source": [
    "vocab = env.get_dictionary()\n",
    "print([w for w in vocab if w.is_noun])\n",
    "print()\n",
    "print([w for w in vocab if w.is_verb])\n",
    "print()\n",
    "print([w for w in vocab if w.is_adj])"
   ]
  },
  {
   "cell_type": "markdown",
   "metadata": {},
   "source": [
    "#### Note: Have agent search through game dictionary for appropriate word? (e.g. direction, or [verb][noun])"
   ]
  },
  {
   "cell_type": "code",
   "execution_count": 59,
   "metadata": {
    "ExecuteTime": {
     "end_time": "2020-06-18T06:24:46.824802Z",
     "start_time": "2020-06-18T06:24:46.809605Z"
    }
   },
   "outputs": [
    {
     "ename": "AttributeError",
     "evalue": "module 'jericho.jericho' has no attribute 'load_bindings'",
     "output_type": "error",
     "traceback": [
      "\u001b[0;31m---------------------------------------------------------------------------\u001b[0m",
      "\u001b[0;31mAttributeError\u001b[0m                            Traceback (most recent call last)",
      "\u001b[0;32m<ipython-input-59-2a5b99e5ce2a>\u001b[0m in \u001b[0;36m<module>\u001b[0;34m\u001b[0m\n\u001b[1;32m      1\u001b[0m \u001b[0;32mfrom\u001b[0m \u001b[0mjericho\u001b[0m\u001b[0;34m.\u001b[0m\u001b[0mtemplate_action_generator\u001b[0m \u001b[0;32mimport\u001b[0m \u001b[0mTemplateActionGenerator\u001b[0m\u001b[0;34m\u001b[0m\u001b[0;34m\u001b[0m\u001b[0m\n\u001b[0;32m----> 2\u001b[0;31m \u001b[0mjericho\u001b[0m\u001b[0;34m.\u001b[0m\u001b[0mload_bindings\u001b[0m\u001b[0;34m(\u001b[0m\u001b[0;34m)\u001b[0m\u001b[0;34m\u001b[0m\u001b[0;34m\u001b[0m\u001b[0m\n\u001b[0m",
      "\u001b[0;31mAttributeError\u001b[0m: module 'jericho.jericho' has no attribute 'load_bindings'"
     ]
    }
   ],
   "source": [
    "from jericho.template_action_generator import TemplateActionGenerator\n",
    "jericho.load_bindings()"
   ]
  },
  {
   "cell_type": "code",
   "execution_count": null,
   "metadata": {},
   "outputs": [],
   "source": []
  }
 ],
 "metadata": {
  "kernelspec": {
   "display_name": "Python 3",
   "language": "python",
   "name": "python3"
  },
  "language_info": {
   "codemirror_mode": {
    "name": "ipython",
    "version": 3
   },
   "file_extension": ".py",
   "mimetype": "text/x-python",
   "name": "python",
   "nbconvert_exporter": "python",
   "pygments_lexer": "ipython3",
   "version": "3.7.3"
  }
 },
 "nbformat": 4,
 "nbformat_minor": 4
}
